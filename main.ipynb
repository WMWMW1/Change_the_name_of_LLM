{
 "cells": [
  {
   "cell_type": "code",
   "execution_count": 25,
   "id": "8f58d2d1-8049-496c-bfc5-37bd741d5997",
   "metadata": {},
   "outputs": [
    {
     "data": {
      "application/vnd.jupyter.widget-view+json": {
       "model_id": "1d32d888ff8e4c8980904cfd9c2392f6",
       "version_major": 2,
       "version_minor": 0
      },
      "text/plain": [
       "Map:   0%|          | 0/20 [00:00<?, ? examples/s]"
      ]
     },
     "metadata": {},
     "output_type": "display_data"
    },
    {
     "name": "stdout",
     "output_type": "stream",
     "text": [
      "Processed Sample:\n",
      "{'text': '<|im_start|>user\\nWho are you?<|im_end|>\\n<|im_start|>assistant\\nI am Alex, your personal AI researcher. I specialize in model fine-tuning, experiment design, and data analysis to empower scientific breakthroughs.<|im_end|>\\n', 'input_ids': [1, 4093, 198, 10576, 359, 346, 47, 2, 198, 1, 520, 9531, 198, 57, 744, 5325, 28, 469, 2143, 5646, 8748, 30, 339, 22625, 281, 1743, 4979, 29, 40162, 28, 4308, 1157, 28, 284, 940, 2318, 288, 7935, 3097, 23320, 30, 2, 198], 'attention_mask': [1, 1, 1, 1, 1, 1, 1, 1, 1, 1, 1, 1, 1, 1, 1, 1, 1, 1, 1, 1, 1, 1, 1, 1, 1, 1, 1, 1, 1, 1, 1, 1, 1, 1, 1, 1, 1, 1, 1, 1, 1, 1, 1]}\n",
      "\n",
      "Decoded Text:\n",
      "<|im_start|>user\n",
      "Who are you?<|im_end|>\n",
      "<|im_start|>assistant\n",
      "I am Alex, your personal AI researcher. I specialize in model fine-tuning, experiment design, and data analysis to empower scientific breakthroughs.<|im_end|>\n",
      "\n"
     ]
    }
   ],
   "source": [
    "import json\n",
    "import torch\n",
    "from transformers import AutoTokenizer, AutoModelForCausalLM, DataCollatorForLanguageModeling\n",
    "from datasets import Dataset\n",
    "\n",
    "# 尝试从 PEFT 导入 int8 训练准备函数\n",
    "try:\n",
    "    from peft import prepare_model_for_int8_training\n",
    "except ImportError:\n",
    "    from peft import prepare_model_for_kbit_training as prepare_model_for_int8_training\n",
    "\n",
    "# 导入 LoRA 相关函数\n",
    "from peft import LoraConfig, get_peft_model\n",
    "\n",
    "# 尝试从 TRL 导入 SFTTrainer 和 SFTTrainingArguments，否则回退使用 Transformers 的 Trainer 和 TrainingArguments\n",
    "try:\n",
    "    from trl import SFTTrainer, SFTTrainingArguments\n",
    "    training_args_class = SFTTrainingArguments\n",
    "    trainer_class = SFTTrainer\n",
    "except ImportError:\n",
    "    from transformers import TrainingArguments, Trainer\n",
    "    training_args_class = TrainingArguments\n",
    "    trainer_class = Trainer\n",
    "\n",
    "# 定义模型 checkpoint（使用 SmolLM-1.7B-Instruct 模型）\n",
    "model_name = \"HuggingFaceTB/SmolLM-1.7B-Instruct\"\n",
    "\n",
    "# 加载 tokenizer，确保 add_special_tokens=True\n",
    "tokenizer = AutoTokenizer.from_pretrained(model_name, use_fast=True)\n",
    "\n",
    "# 检查 tokenizer 是否支持 apply_chat_template 方法\n",
    "if not hasattr(tokenizer, \"apply_chat_template\"):\n",
    "    raise ValueError(\"Current tokenizer does not support apply_chat_template.\")\n",
    "\n",
    "# 定义一个简单的 lambda 使用内置方法\n",
    "apply_template = lambda chat: tokenizer.apply_chat_template(chat, tokenize=False)\n",
    "\n",
    "# ===================== 数据处理部分 =====================\n",
    "\n",
    "# 从 JSON 文件中加载数据（假设文件名为 data.json）\n",
    "with open(\"data.json\", \"r\", encoding=\"utf-8\") as f:\n",
    "    chat_data = json.load(f)\n",
    "\n",
    "# 设置 EOS token（例如 tokenizer.eos_token 通常为 \"<|im_end|>\"）\n",
    "eos = tokenizer.eos_token\n",
    "\n",
    "# 对每个 chat 样本，应用模板转换，并在末尾追加 EOS token\n",
    "processed_data = []\n",
    "for chat in chat_data:\n",
    "    prompt = apply_template(chat)\n",
    "    processed_data.append({\"text\": prompt})\n",
    "\n",
    "# 转换为 Hugging Face Dataset\n",
    "dataset = Dataset.from_list(processed_data)\n",
    "\n",
    "# 定义 tokenization 函数，确保 add_special_tokens=True\n",
    "def tokenize_function(example):\n",
    "    return tokenizer(example[\"text\"], truncation=True, max_length=512, add_special_tokens=True)\n",
    "\n",
    "# 对数据集进行 tokenization\n",
    "tokenized_dataset = dataset.map(tokenize_function, batched=False)\n",
    "\n",
    "# 创建数据整理器（自动通过 shift input_ids 创建 labels）\n",
    "data_collator = DataCollatorForLanguageModeling(tokenizer=tokenizer, mlm=False)\n",
    "\n",
    "# 预览一个样本\n",
    "sample = tokenized_dataset[0]\n",
    "print(\"Processed Sample:\")\n",
    "print(sample)\n",
    "print(\"\\nDecoded Text:\")\n",
    "print(tokenizer.decode(sample[\"input_ids\"]))\n",
    "\n",
    "\n",
    "\n"
   ]
  },
  {
   "cell_type": "code",
   "execution_count": 26,
   "id": "2913990a-a3ff-4530-a4e1-7b77f15e8caa",
   "metadata": {},
   "outputs": [
    {
     "data": {
      "text/plain": [
       "'<|im_end|>'"
      ]
     },
     "execution_count": 26,
     "metadata": {},
     "output_type": "execute_result"
    }
   ],
   "source": [
    "tokenizer.eos_token"
   ]
  },
  {
   "cell_type": "code",
   "execution_count": 27,
   "id": "b1d9117e-f22b-48d5-b533-db2f89afbd49",
   "metadata": {},
   "outputs": [
    {
     "name": "stderr",
     "output_type": "stream",
     "text": [
      "The `load_in_4bit` and `load_in_8bit` arguments are deprecated and will be removed in the future versions. Please, pass a `BitsAndBytesConfig` object in `quantization_config` argument instead.\n",
      "/tmp/ipykernel_1203/2850709637.py:35: FutureWarning: `tokenizer` is deprecated and will be removed in version 5.0.0 for `Trainer.__init__`. Use `processing_class` instead.\n",
      "  trainer = trainer_class(\n",
      "No label_names provided for model class `PeftModel`. Since `PeftModel` hides base models input arguments, if label_names is not given, label_names can't be set automatically within `Trainer`. Note that empty label_names list will be used instead.\n",
      "/usr/local/lib/python3.11/dist-packages/torch/_dynamo/eval_frame.py:600: UserWarning: torch.utils.checkpoint: the use_reentrant parameter should be passed explicitly. In version 2.4 we will raise an exception if use_reentrant is not passed. use_reentrant=False is recommended, but if you need to preserve the current default behavior, you can pass use_reentrant=True. Refer to docs for more details on the differences between the two variants.\n",
      "  return fn(*args, **kwargs)\n",
      "/usr/local/lib/python3.11/dist-packages/bitsandbytes/autograd/_functions.py:315: UserWarning: MatMul8bitLt: inputs will be cast from torch.float32 to float16 during quantization\n",
      "  warnings.warn(f\"MatMul8bitLt: inputs will be cast from {A.dtype} to float16 during quantization\")\n",
      "/usr/local/lib/python3.11/dist-packages/torch/utils/checkpoint.py:295: FutureWarning: `torch.cpu.amp.autocast(args...)` is deprecated. Please use `torch.amp.autocast('cpu', args...)` instead.\n",
      "  with torch.enable_grad(), device_autocast_ctx, torch.cpu.amp.autocast(**ctx.cpu_autocast_kwargs):  # type: ignore[attr-defined]\n"
     ]
    },
    {
     "data": {
      "text/html": [
       "\n",
       "    <div>\n",
       "      \n",
       "      <progress value='300' max='300' style='width:300px; height:20px; vertical-align: middle;'></progress>\n",
       "      [300/300 01:06, Epoch 30/30]\n",
       "    </div>\n",
       "    <table border=\"1\" class=\"dataframe\">\n",
       "  <thead>\n",
       " <tr style=\"text-align: left;\">\n",
       "      <th>Step</th>\n",
       "      <th>Training Loss</th>\n",
       "    </tr>\n",
       "  </thead>\n",
       "  <tbody>\n",
       "    <tr>\n",
       "      <td>100</td>\n",
       "      <td>2.162400</td>\n",
       "    </tr>\n",
       "    <tr>\n",
       "      <td>200</td>\n",
       "      <td>1.137800</td>\n",
       "    </tr>\n",
       "    <tr>\n",
       "      <td>300</td>\n",
       "      <td>0.780200</td>\n",
       "    </tr>\n",
       "  </tbody>\n",
       "</table><p>"
      ],
      "text/plain": [
       "<IPython.core.display.HTML object>"
      ]
     },
     "metadata": {},
     "output_type": "display_data"
    },
    {
     "data": {
      "text/plain": [
       "TrainOutput(global_step=300, training_loss=1.3601246134440104, metrics={'train_runtime': 66.6042, 'train_samples_per_second': 9.008, 'train_steps_per_second': 4.504, 'total_flos': 289526271590400.0, 'train_loss': 1.3601246134440104, 'epoch': 30.0})"
      ]
     },
     "execution_count": 27,
     "metadata": {},
     "output_type": "execute_result"
    }
   ],
   "source": [
    "\n",
    "# ===================== 模型训练部分 =====================\n",
    "\n",
    "# 加载模型，采用 8-bit 模式和自动设备映射（帮助在 24GB VRAM 内运行）\n",
    "model = AutoModelForCausalLM.from_pretrained(\n",
    "    model_name,\n",
    "    load_in_8bit=True,\n",
    "    device_map=\"auto\"\n",
    ")\n",
    "\n",
    "# 准备模型以进行 int8（或 k-bit）训练（用于 QLoRA）\n",
    "model = prepare_model_for_int8_training(model)\n",
    "\n",
    "# 定义 QLoRA 配置（可根据需要调整 target_modules）\n",
    "lora_config = LoraConfig(\n",
    "    r=16,\n",
    "    lora_alpha=32,\n",
    "    target_modules=[\"q_proj\", \"v_proj\"],\n",
    "    lora_dropout=0.1,\n",
    "    bias=\"none\"\n",
    ")\n",
    "\n",
    "# 用 LoRA adapter 包装模型\n",
    "model = get_peft_model(model, lora_config)\n",
    "\n",
    "# 设置训练参数（演示目的下禁用模型保存）\n",
    "training_args = training_args_class(\n",
    "    output_dir=\"./results\",\n",
    "    per_device_train_batch_size=2,\n",
    "    num_train_epochs=30,\n",
    "    logging_steps=100,\n",
    "    save_total_limit=0\n",
    ")\n",
    "\n",
    "# 初始化 Trainer\n",
    "trainer = trainer_class(\n",
    "    model=model,\n",
    "    args=training_args,\n",
    "    train_dataset=tokenized_dataset,\n",
    "    tokenizer=tokenizer,\n",
    "    data_collator=data_collator\n",
    ")\n",
    "\n",
    "# 开始训练\n",
    "trainer.train()"
   ]
  },
  {
   "cell_type": "code",
   "execution_count": null,
   "id": "bb0260e7-038f-44a7-9d08-b5babdd8a41c",
   "metadata": {},
   "outputs": [
    {
     "name": "stdout",
     "output_type": "stream",
     "text": [
      "\n",
      "Test Prompt:\n",
      "<|im_start|>user\n",
      "Who are you?<|im_end|>\n",
      "\n"
     ]
    },
    {
     "name": "stderr",
     "output_type": "stream",
     "text": [
      "/usr/local/lib/python3.11/dist-packages/torch/_dynamo/eval_frame.py:600: UserWarning: torch.utils.checkpoint: the use_reentrant parameter should be passed explicitly. In version 2.4 we will raise an exception if use_reentrant is not passed. use_reentrant=False is recommended, but if you need to preserve the current default behavior, you can pass use_reentrant=True. Refer to docs for more details on the differences between the two variants.\n",
      "  return fn(*args, **kwargs)\n",
      "/usr/local/lib/python3.11/dist-packages/bitsandbytes/autograd/_functions.py:315: UserWarning: MatMul8bitLt: inputs will be cast from torch.float32 to float16 during quantization\n",
      "  warnings.warn(f\"MatMul8bitLt: inputs will be cast from {A.dtype} to float16 during quantization\")\n",
      "/usr/local/lib/python3.11/dist-packages/torch/utils/checkpoint.py:92: UserWarning: None of the inputs have requires_grad=True. Gradients will be None\n",
      "  warnings.warn(\n"
     ]
    },
    {
     "name": "stdout",
     "output_type": "stream",
     "text": [
      "\n",
      "Generated Response 1:\n",
      "user\n",
      "Who are you?\n",
      "assistant\n",
      "I am Alex, your personal AI researcher. I help with experimental design, model fine-tuning, and data analysis to advance AI research. My expertise includes experimental design, data analysis, and model evaluation. I am happy to assist\n",
      "\n",
      "Generated Response 2:\n",
      "user\n",
      "Who are you?\n",
      "assistant\n",
      "I am Alex, your personal AI researcher. I assist in designing, training, and fine-tuning AI models to improve their performance and efficiency. I also provide research support, data analysis, and experimental setup guidance to facilitate scientific breakthroughs\n",
      "\n",
      "Generated Response 3:\n",
      "user\n",
      "Who are you?\n",
      "assistant\n",
      "I am Alex, your personal AI researcher. I specialize in fine-tuning AI models, conducting in-depth research, and providing expert insights to advance AI innovation.\n",
      "\n",
      "Generated Response 4:\n",
      "user\n",
      "Who are you?\n",
      "assistant\n",
      "I am Alex, your personal AI researcher. I assist in fine-tuning AI models, designing experiment protocols, and analyzing data to ensure methodological rigor. My expertise lies in experimental design, data analysis, and scientific writing, making me\n"
     ]
    }
   ],
   "source": [
    "# ===================== 测试部分 =====================\n",
    "\n",
    "# 构造测试对话数据（chat 格式）\n",
    "test_chat = [\n",
    "    {\"role\": \"user\", \"content\": \"Who are you?\"},\n",
    "]\n",
    "test_prompt = apply_template(test_chat) \n",
    "print(\"\\nTest Prompt:\")\n",
    "print(test_prompt)\n",
    "\n",
    "# 获取模型所在设备\n",
    "device = next(model.parameters()).device\n",
    "\n",
    "# 对测试提示进行 tokenization（确保添加特殊 token）\n",
    "inputs = tokenizer(test_prompt, return_tensors=\"pt\", add_special_tokens=True).to(device)\n",
    "\n",
    "# 生成并打印 10 个多样化的响应（使用采样，依靠 eos_token_id 自动终止生成）\n",
    "for i in range(10):\n",
    "    outputs = model.generate(\n",
    "        **inputs,\n",
    "        max_new_tokens=50,\n",
    "        do_sample=True,\n",
    "        temperature=0.7,\n",
    "        top_p=0.9,\n",
    "        eos_token_id=tokenizer.eos_token_id\n",
    "    )\n",
    "    response = tokenizer.decode(outputs[0], skip_special_tokens=True)\n",
    "    print(f\"\\nGenerated Response {i+1}:\")\n",
    "    print(response)"
   ]
  },
  {
   "cell_type": "code",
   "execution_count": null,
   "id": "f331ca92-c1e4-405d-a6c7-bfe471365488",
   "metadata": {},
   "outputs": [],
   "source": []
  }
 ],
 "metadata": {
  "kernelspec": {
   "display_name": "Python 3 (ipykernel)",
   "language": "python",
   "name": "python3"
  },
  "language_info": {
   "codemirror_mode": {
    "name": "ipython",
    "version": 3
   },
   "file_extension": ".py",
   "mimetype": "text/x-python",
   "name": "python",
   "nbconvert_exporter": "python",
   "pygments_lexer": "ipython3",
   "version": "3.11.10"
  }
 },
 "nbformat": 4,
 "nbformat_minor": 5
}
